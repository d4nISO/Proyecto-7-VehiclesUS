{
  "cells": [
    {
      "cell_type": "markdown",
      "metadata": {},
      "source": [
        "# 1. Importacion de librerias y Carga del DataFrame"
      ]
    },
    {
      "cell_type": "code",
      "execution_count": 1,
      "metadata": {
        "id": "Tz6WYf46rfLj"
      },
      "outputs": [],
      "source": [
        "import pandas as pd\n",
        "import streamlit as st\n",
        "import plotly.express as px"
      ]
    },
    {
      "cell_type": "code",
      "execution_count": 2,
      "metadata": {
        "id": "YzdvGAsSr-_B"
      },
      "outputs": [],
      "source": [
        "# Carga de los datos\n",
        "vehicles_df = pd.read_csv(r'D:\\101010 Revisiones\\Sprint-7-Proyecto\\vehicles_us.csv')"
      ]
    },
    {
      "cell_type": "code",
      "execution_count": 3,
      "metadata": {
        "colab": {
          "base_uri": "https://localhost:8080/"
        },
        "id": "MOSLvmAXsNkv",
        "outputId": "ad5cd1e7-c628-4101-a969-5ae6511f2b49"
      },
      "outputs": [
        {
          "name": "stdout",
          "output_type": "stream",
          "text": [
            "ESTRUCTURA GENERAL\n",
            "<class 'pandas.core.frame.DataFrame'>\n",
            "RangeIndex: 51525 entries, 0 to 51524\n",
            "Data columns (total 13 columns):\n",
            " #   Column        Non-Null Count  Dtype  \n",
            "---  ------        --------------  -----  \n",
            " 0   price         51525 non-null  int64  \n",
            " 1   model_year    47906 non-null  float64\n",
            " 2   model         51525 non-null  object \n",
            " 3   condition     51525 non-null  object \n",
            " 4   cylinders     46265 non-null  float64\n",
            " 5   fuel          51525 non-null  object \n",
            " 6   odometer      43633 non-null  float64\n",
            " 7   transmission  51525 non-null  object \n",
            " 8   type          51525 non-null  object \n",
            " 9   paint_color   42258 non-null  object \n",
            " 10  is_4wd        25572 non-null  float64\n",
            " 11  date_posted   51525 non-null  object \n",
            " 12  days_listed   51525 non-null  int64  \n",
            "dtypes: float64(4), int64(2), object(7)\n",
            "memory usage: 5.1+ MB\n",
            "None\n",
            "\n",
            "MUESTRA DE LOS DATOS\n",
            "       price  model_year                       model  condition  cylinders  \\\n",
            "17682   3900      2006.0                jeep liberty       good        6.0   \n",
            "50933   5500      2002.0             nissan frontier       good        6.0   \n",
            "3552   35999      2016.0  chevrolet silverado 2500hd  excellent        8.0   \n",
            "3307   12995      2009.0    chevrolet silverado 1500  excellent        8.0   \n",
            "24098  26500      2015.0                  ford f-150  excellent        NaN   \n",
            "32672   7850      2016.0                  ford focus  excellent        3.0   \n",
            "32396   5990      2008.0               ford explorer       good        6.0   \n",
            "12335  43995      2018.0     jeep wrangler unlimited       good        6.0   \n",
            "30832  13990      2008.0             chevrolet tahoe       good        8.0   \n",
            "35982   2600      2003.0                toyota camry  excellent        4.0   \n",
            "\n",
            "         fuel  odometer transmission     type paint_color  is_4wd date_posted  \\\n",
            "17682     gas  160000.0    automatic      SUV         NaN     1.0  2018-12-08   \n",
            "50933     gas  129000.0       manual  offroad         red     1.0  2018-07-02   \n",
            "3552   diesel  144537.0    automatic   pickup       white     1.0  2018-12-21   \n",
            "3307      gas  111526.0    automatic    truck       black     1.0  2018-12-20   \n",
            "24098     gas   87700.0    automatic    truck         NaN     1.0  2018-11-11   \n",
            "32672     gas     116.0    automatic    sedan         red     NaN  2018-08-13   \n",
            "32396     gas  137809.0    automatic      SUV         NaN     1.0  2018-09-06   \n",
            "12335     gas   15338.0    automatic    wagon         NaN     1.0  2019-03-18   \n",
            "30832     gas       NaN    automatic      SUV        blue     1.0  2018-11-17   \n",
            "35982     gas  153000.0    automatic    sedan         NaN     NaN  2019-04-08   \n",
            "\n",
            "       days_listed  \n",
            "17682           12  \n",
            "50933           38  \n",
            "3552            13  \n",
            "3307            44  \n",
            "24098           16  \n",
            "32672           25  \n",
            "32396           10  \n",
            "12335           40  \n",
            "30832           17  \n",
            "35982           77  \n"
          ]
        }
      ],
      "source": [
        "#Funcion para el diagnóstico inicial de los datos\n",
        "def fun_diagnóstico (df):\n",
        "    print(\"ESTRUCTURA GENERAL\")\n",
        "    print(df.info())\n",
        "    print()\n",
        "    print(\"MUESTRA DE LOS DATOS\")\n",
        "    print(df.sample(10))\n",
        "\n",
        "#Diagnóstico para games_df\n",
        "fun_diagnóstico(vehicles_df)\n"
      ]
    },
    {
      "cell_type": "markdown",
      "metadata": {
        "id": "EnoUYayZxGUE"
      },
      "source": [
        "## Observaciones del diagnostico inicial de vehicles_df\n",
        "\n",
        "El dataframe consta con 51525 entradas y 13 columnas, es un conjunto de datos sobre vehiculos y sus características para su venta. En las columnas hay informacion que describe a detalle cada vechiculo por sus características."
      ]
    },
    {
      "cell_type": "markdown",
      "metadata": {
        "id": "u8RdF3N-z3r5"
      },
      "source": [
        "# Plan de Trabajo\n",
        "\n",
        "**° Columna Price:**\n",
        "\n",
        "  - No tiene datos ausentes.\n",
        "  - El tipo es adecuado, aunque no se haran operaciones aqui.\n",
        "\n",
        "**° Columna Condition:**\n",
        "\n",
        "  - No contiene datos ausentes.\n",
        "  - El tipo de datos object es adecuado.\n",
        "\n",
        "**° Columna Fuel:**\n",
        "\n",
        "  - No contiene datos ausentes.\n",
        "  - El tipo de datos object es adecuado.\n",
        "\n",
        "**° Columna Transmission:**\n",
        "\n",
        "  - No contiene datos ausentes.\n",
        "  - El tipo de datos object es adecuado.\n",
        "\n",
        "**° Columna Type:**\n",
        "\n",
        "  - No contiene datos ausentes.\n",
        "  - El tipo de datos object es adecuado.\n",
        "\n",
        "**° Columna Date Posted:**\n",
        "\n",
        "  - No contiene datos ausentes.\n",
        "  - Indica la fecha en que fue publicado el auto\n",
        "\n",
        "**° Columna Days Listed:**\n",
        "\n",
        "  - No contiene datos ausentes.\n",
        "  - El tipo de datos int64 es adecuado.\n",
        "\n",
        "**° Columna Model Year:**\n",
        "\n",
        " - Existen 3619 datos ausentes, esto quiere decir que que faltan los años de estos vehiculos. Los años van de 1908 a 2019.\n",
        " - Se imputara con...\n",
        " - El tipo es float64, se convetira a int64 ya que no es necesario tener decimales.\n",
        "\n",
        "**° Columna Model:**\n",
        "\n",
        "  - No contiene datos ausentes.\n",
        "  - Se creara una columna unicamente con la marca que produce el vehiculo.\n",
        "\n",
        "**° Columna Cylinders:**\n",
        "\n",
        " - Contiene 5260 datos ausentes.\n",
        " - El tipo es float64, se convetira a int64 ya que no es necesario tener decimales.\n",
        "\n",
        "**° Columna Odometer:**\n",
        "\n",
        "  - Contiene 7892 datos ausentes.\n",
        "  - El tipo de datos float64 es adecuado.\n",
        "\n",
        "**° Columna Paint Color:**\n",
        "\n",
        "  - Contiene 9267 datos ausentes.\n",
        "  - Los valores ausentes se imputaran con \"unknown\"\n",
        "  - El tipo de datos object es adecuado.\n",
        "\n",
        "**°Columna Is 4WD:**\n",
        "\n",
        "  - Contiene 25572 datos ausentes.\n",
        "  - Los valores ausentes se imputaran con \"0\" indicando que no son 4wd\n",
        "  - El tipo de datos es float64.\n",
        "\n",
        "\n"
      ]
    },
    {
      "cell_type": "markdown",
      "metadata": {
        "id": "B0ECM5q9L8hg"
      },
      "source": [
        "# 2.Limpieza y Procesamiento de Datos"
      ]
    },
    {
      "cell_type": "markdown",
      "metadata": {
        "id": "zwZmkEDwTQrX"
      },
      "source": [
        "##Columna 'model_year'##"
      ]
    },
    {
      "cell_type": "code",
      "execution_count": 4,
      "metadata": {
        "colab": {
          "base_uri": "https://localhost:8080/"
        },
        "id": "xk338JLBYVgX",
        "outputId": "0d1e77f9-24ac-42e6-855b-1a291a2be440"
      },
      "outputs": [
        {
          "name": "stdout",
          "output_type": "stream",
          "text": [
            "El número de valores perdidos en la columna año del modelo es de: 3619\n",
            "El porcentaje de valores perdidos equivale a: 0.07023774866569626\n"
          ]
        }
      ],
      "source": [
        "# Valores perdidos en 'model_year'\n",
        "modye_perdidos = (vehicles_df['model_year'].isna().sum())\n",
        "modye_porcentage = (vehicles_df['model_year'].isna().sum()/vehicles_df.shape[0])\n",
        "\n",
        "print(f'El número de valores perdidos en la columna año del modelo es de: {modye_perdidos}')\n",
        "print(f'El porcentaje de valores perdidos equivale a: {modye_porcentage}')"
      ]
    },
    {
      "cell_type": "markdown",
      "metadata": {
        "id": "PU1po8qnbGcf"
      },
      "source": [
        "##Creacion de columna 'manifacturer' a partir de columna 'model'##\n"
      ]
    },
    {
      "cell_type": "code",
      "execution_count": 5,
      "metadata": {
        "id": "CMcgwKwG7Mo4"
      },
      "outputs": [],
      "source": [
        "# Funcion para agrupar vehiculos por Compañia de Manufactura\n",
        "def fun_manufacturer (x):\n",
        "    if x in ['bmw x5']:\n",
        "        return \"BMW\"\n",
        "    elif x in ['buick enclave']:\n",
        "        return \"BUICK\"\n",
        "    elif x in ['ford f-150', 'ford fusion se', 'ford focus', 'ford f150 supercrew cab xlt', 'ford mustang', 'ford f-250 sd',\n",
        "               'ford f250 super duty', 'ford mustang gt coupe 2d', 'ford explorer', 'ford f-350 sd', 'ford edge', 'ford f-250', 'ford f150',\n",
        "               'ford expedition', 'ford taurus', 'ford f350 super duty', 'ford ranger', 'ford escape', 'ford fusion', 'ford f-250 super duty',\n",
        "               'ford focus se', 'ford f250', 'ford f350', 'ford econoline']:\n",
        "        return \"FORD\"\n",
        "    elif x in ['gmc yukon', 'gmc sierra', 'gmc sierra 2500hd', 'gmc sierra 1500', 'gmc acadia']:\n",
        "        return \"GMC\"\n",
        "    elif x in ['hyundai sonata', 'hyundai elantra', 'hyundai santa fe']:\n",
        "        return \"HYUNDAI\"\n",
        "    elif x in ['chrysler 200', 'chrysler 300', 'chrysler town & country']:\n",
        "        return \"CHRYSLER\"\n",
        "    elif x in ['cadillac escalade']:\n",
        "        return \"CADILLAC\"\n",
        "    elif x in ['dodge charger', 'dodge grand caravan', 'dodge dakota']:\n",
        "        return \"DODGE\"\n",
        "    elif x in ['jeep cherokee', 'jeep wrangler', 'jeep liberty', 'jeep grand cherokee', 'jeep grand cherokee laredo', 'jeep wrangler unlimited']:\n",
        "        return \"JEEP\"\n",
        "    elif x in ['toyota camry', 'toyota rav4', 'toyota camry le', 'toyota highlander', 'toyota tacoma', 'toyota 4runner', 'toyota corolla',\n",
        "               'toyota prius', 'toyota tundra', 'toyota sienna']:\n",
        "        return \"TOYOTA\"\n",
        "    elif x in ['acura tl']:\n",
        "        return \"ACURA\"\n",
        "    elif x in ['volkswagen jetta', 'volkswagen passat']:\n",
        "        return \"VOLKSWAGEN\"\n",
        "    elif x in ['chevrolet silverado 1500', 'chevrolet traverse', 'chevrolet tahoe', 'chevrolet silverado', 'chevrolet malibu', 'chevrolet impala',\n",
        "               'chevrolet corvette''chevrolet equinox', 'chevrolet colorado', 'chevrolet camaro lt coupe 2d', 'chevrolet cruze',\n",
        "               'chevrolet silverado 3500hd', 'chevrolet silverado 1500 crew', 'chevrolet camaro', 'chevrolet suburban', 'chevrolet silverado 2500hd', 'chevrolet trailblazer']:\n",
        "        return \"CHEVROLET\"\n",
        "    elif x in ['honda pilot', 'honda accord', 'honda cr-v', 'honda civic', 'honda civic lx', 'honda odyssey']:\n",
        "        return \"HONDA\"\n",
        "    elif x in ['nissan altima', 'nissan rogue', 'nissan frontier crew cab sv', 'nissan versa', 'nissan maxima', 'nissan sentra', 'nissan frontier', 'nissan murano']:\n",
        "        return \"NISSAN\"\n",
        "    elif x in ['mercedes-benz benze sprinter 2500']:\n",
        "        return \"MERCEDES-BENZ\"\n",
        "    elif x in ['ram 1500', 'ram 3500', 'ram 2500']:\n",
        "        return \"RAM\"\n",
        "    elif x in ['kia sorento', 'kia soul']:\n",
        "        return \"KIA\"\n",
        "    elif x in ['subaru outback', 'subaru impreza', 'subaru forester']:\n",
        "        return \"SUBARU\"\n",
        "    else:\n",
        "        return \"Other\"\n"
      ]
    },
    {
      "cell_type": "code",
      "execution_count": null,
      "metadata": {
        "colab": {
          "base_uri": "https://localhost:8080/",
          "height": 278
        },
        "id": "0vZLXK8e5lnf",
        "outputId": "20898b82-f7c2-4ad7-96f1-95f13c1d952a"
      },
      "outputs": [
        {
          "data": {
            "application/vnd.microsoft.datawrangler.viewer.v0+json": {
              "columns": [
                {
                  "name": "index",
                  "rawType": "int64",
                  "type": "integer"
                },
                {
                  "name": "price",
                  "rawType": "int64",
                  "type": "integer"
                },
                {
                  "name": "model_year",
                  "rawType": "float64",
                  "type": "float"
                },
                {
                  "name": "model",
                  "rawType": "object",
                  "type": "string"
                },
                {
                  "name": "condition",
                  "rawType": "object",
                  "type": "string"
                },
                {
                  "name": "cylinders",
                  "rawType": "float64",
                  "type": "float"
                },
                {
                  "name": "fuel",
                  "rawType": "object",
                  "type": "string"
                },
                {
                  "name": "odometer",
                  "rawType": "float64",
                  "type": "float"
                },
                {
                  "name": "transmission",
                  "rawType": "object",
                  "type": "string"
                },
                {
                  "name": "type",
                  "rawType": "object",
                  "type": "string"
                },
                {
                  "name": "paint_color",
                  "rawType": "object",
                  "type": "string"
                },
                {
                  "name": "is_4wd",
                  "rawType": "float64",
                  "type": "float"
                },
                {
                  "name": "date_posted",
                  "rawType": "object",
                  "type": "string"
                },
                {
                  "name": "days_listed",
                  "rawType": "int64",
                  "type": "integer"
                },
                {
                  "name": "manufacturer",
                  "rawType": "object",
                  "type": "string"
                }
              ],
              "ref": "36c79aa0-9b8d-4893-bed1-186a1e61aace",
              "rows": [
                [
                  "11417",
                  "21900",
                  "2013.0",
                  "toyota tacoma",
                  "excellent",
                  "6.0",
                  "gas",
                  "97889.0",
                  "manual",
                  "truck",
                  "grey",
                  "1.0",
                  "2018-10-13",
                  "27",
                  "TOYOTA"
                ],
                [
                  "36529",
                  "9995",
                  "2015.0",
                  "ford fusion",
                  "good",
                  "4.0",
                  "gas",
                  "107136.0",
                  "automatic",
                  "sedan",
                  "grey",
                  null,
                  "2018-07-06",
                  "39",
                  "FORD"
                ],
                [
                  "32827",
                  "4995",
                  "2003.0",
                  "chevrolet silverado 1500",
                  "good",
                  "8.0",
                  "gas",
                  null,
                  "automatic",
                  "truck",
                  "green",
                  "1.0",
                  "2018-12-13",
                  "16",
                  "CHEVROLET"
                ],
                [
                  "39818",
                  "12500",
                  "2010.0",
                  "ford f-150",
                  "excellent",
                  "8.0",
                  "gas",
                  null,
                  "automatic",
                  "truck",
                  "white",
                  "1.0",
                  "2018-09-12",
                  "14",
                  "FORD"
                ],
                [
                  "43204",
                  "8995",
                  "2005.0",
                  "ram 1500",
                  "excellent",
                  "8.0",
                  "gas",
                  null,
                  "automatic",
                  "pickup",
                  "grey",
                  "1.0",
                  "2018-10-20",
                  "11",
                  "RAM"
                ]
              ],
              "shape": {
                "columns": 14,
                "rows": 5
              }
            },
            "text/html": [
              "<div>\n",
              "<style scoped>\n",
              "    .dataframe tbody tr th:only-of-type {\n",
              "        vertical-align: middle;\n",
              "    }\n",
              "\n",
              "    .dataframe tbody tr th {\n",
              "        vertical-align: top;\n",
              "    }\n",
              "\n",
              "    .dataframe thead th {\n",
              "        text-align: right;\n",
              "    }\n",
              "</style>\n",
              "<table border=\"1\" class=\"dataframe\">\n",
              "  <thead>\n",
              "    <tr style=\"text-align: right;\">\n",
              "      <th></th>\n",
              "      <th>price</th>\n",
              "      <th>model_year</th>\n",
              "      <th>model</th>\n",
              "      <th>condition</th>\n",
              "      <th>cylinders</th>\n",
              "      <th>fuel</th>\n",
              "      <th>odometer</th>\n",
              "      <th>transmission</th>\n",
              "      <th>type</th>\n",
              "      <th>paint_color</th>\n",
              "      <th>is_4wd</th>\n",
              "      <th>date_posted</th>\n",
              "      <th>days_listed</th>\n",
              "      <th>manufacturer</th>\n",
              "    </tr>\n",
              "  </thead>\n",
              "  <tbody>\n",
              "    <tr>\n",
              "      <th>11417</th>\n",
              "      <td>21900</td>\n",
              "      <td>2013.0</td>\n",
              "      <td>toyota tacoma</td>\n",
              "      <td>excellent</td>\n",
              "      <td>6.0</td>\n",
              "      <td>gas</td>\n",
              "      <td>97889.0</td>\n",
              "      <td>manual</td>\n",
              "      <td>truck</td>\n",
              "      <td>grey</td>\n",
              "      <td>1.0</td>\n",
              "      <td>2018-10-13</td>\n",
              "      <td>27</td>\n",
              "      <td>TOYOTA</td>\n",
              "    </tr>\n",
              "    <tr>\n",
              "      <th>36529</th>\n",
              "      <td>9995</td>\n",
              "      <td>2015.0</td>\n",
              "      <td>ford fusion</td>\n",
              "      <td>good</td>\n",
              "      <td>4.0</td>\n",
              "      <td>gas</td>\n",
              "      <td>107136.0</td>\n",
              "      <td>automatic</td>\n",
              "      <td>sedan</td>\n",
              "      <td>grey</td>\n",
              "      <td>NaN</td>\n",
              "      <td>2018-07-06</td>\n",
              "      <td>39</td>\n",
              "      <td>FORD</td>\n",
              "    </tr>\n",
              "    <tr>\n",
              "      <th>32827</th>\n",
              "      <td>4995</td>\n",
              "      <td>2003.0</td>\n",
              "      <td>chevrolet silverado 1500</td>\n",
              "      <td>good</td>\n",
              "      <td>8.0</td>\n",
              "      <td>gas</td>\n",
              "      <td>NaN</td>\n",
              "      <td>automatic</td>\n",
              "      <td>truck</td>\n",
              "      <td>green</td>\n",
              "      <td>1.0</td>\n",
              "      <td>2018-12-13</td>\n",
              "      <td>16</td>\n",
              "      <td>CHEVROLET</td>\n",
              "    </tr>\n",
              "    <tr>\n",
              "      <th>39818</th>\n",
              "      <td>12500</td>\n",
              "      <td>2010.0</td>\n",
              "      <td>ford f-150</td>\n",
              "      <td>excellent</td>\n",
              "      <td>8.0</td>\n",
              "      <td>gas</td>\n",
              "      <td>NaN</td>\n",
              "      <td>automatic</td>\n",
              "      <td>truck</td>\n",
              "      <td>white</td>\n",
              "      <td>1.0</td>\n",
              "      <td>2018-09-12</td>\n",
              "      <td>14</td>\n",
              "      <td>FORD</td>\n",
              "    </tr>\n",
              "    <tr>\n",
              "      <th>43204</th>\n",
              "      <td>8995</td>\n",
              "      <td>2005.0</td>\n",
              "      <td>ram 1500</td>\n",
              "      <td>excellent</td>\n",
              "      <td>8.0</td>\n",
              "      <td>gas</td>\n",
              "      <td>NaN</td>\n",
              "      <td>automatic</td>\n",
              "      <td>pickup</td>\n",
              "      <td>grey</td>\n",
              "      <td>1.0</td>\n",
              "      <td>2018-10-20</td>\n",
              "      <td>11</td>\n",
              "      <td>RAM</td>\n",
              "    </tr>\n",
              "  </tbody>\n",
              "</table>\n",
              "</div>"
            ],
            "text/plain": [
              "       price  model_year                     model  condition  cylinders fuel  \\\n",
              "11417  21900      2013.0             toyota tacoma  excellent        6.0  gas   \n",
              "36529   9995      2015.0               ford fusion       good        4.0  gas   \n",
              "32827   4995      2003.0  chevrolet silverado 1500       good        8.0  gas   \n",
              "39818  12500      2010.0                ford f-150  excellent        8.0  gas   \n",
              "43204   8995      2005.0                  ram 1500  excellent        8.0  gas   \n",
              "\n",
              "       odometer transmission    type paint_color  is_4wd date_posted  \\\n",
              "11417   97889.0       manual   truck        grey     1.0  2018-10-13   \n",
              "36529  107136.0    automatic   sedan        grey     NaN  2018-07-06   \n",
              "32827       NaN    automatic   truck       green     1.0  2018-12-13   \n",
              "39818       NaN    automatic   truck       white     1.0  2018-09-12   \n",
              "43204       NaN    automatic  pickup        grey     1.0  2018-10-20   \n",
              "\n",
              "       days_listed manufacturer  \n",
              "11417           27       TOYOTA  \n",
              "36529           39         FORD  \n",
              "32827           16    CHEVROLET  \n",
              "39818           14         FORD  \n",
              "43204           11          RAM  "
            ]
          },
          "execution_count": 6,
          "metadata": {},
          "output_type": "execute_result"
        }
      ],
      "source": [
        "# Aplicando función para crear la columna 'manufacturer'\n",
        "vehicles_df['manufacturer']=vehicles_df['model'].apply(fun_manufacturer)\n",
        "vehicles_df.sample(5)"
      ]
    },
    {
      "cell_type": "markdown",
      "metadata": {
        "id": "4L2FzBeSGQm7"
      },
      "source": [
        "##Columna 'cylinder'##"
      ]
    },
    {
      "cell_type": "code",
      "execution_count": null,
      "metadata": {
        "colab": {
          "base_uri": "https://localhost:8080/"
        },
        "id": "CcjatR90I3Di",
        "outputId": "3579cf2e-1a44-4031-cf82-a6470b83d372"
      },
      "outputs": [
        {
          "name": "stdout",
          "output_type": "stream",
          "text": [
            "El número de valores perdidos en la columna cilindros del modelo es de: 5260\n",
            "El porcentaje de valores perdidos equivale a: 0.10208636584182436\n"
          ]
        }
      ],
      "source": [
        "# Valores perdidos en columna 'cylinders'\n",
        "cy_perdidos = (vehicles_df['cylinders'].isna().sum())\n",
        "cy_porcentage = (vehicles_df['cylinders'].isna().sum()/vehicles_df.shape[0])\n",
        "\n",
        "print(f'El número de valores perdidos en la columna cilindros del modelo es de: {cy_perdidos}')\n",
        "print(f'El porcentaje de valores perdidos equivale a: {cy_porcentage}')"
      ]
    },
    {
      "cell_type": "code",
      "execution_count": null,
      "metadata": {
        "id": "rwasCQLt9cWL"
      },
      "outputs": [],
      "source": [
        "# Conversion de columna 'cylinders' al tipo object e imputacion de valores perdidos\n",
        "vehicles_df['cylinders'] = (\n",
        "    vehicles_df['cylinders']\n",
        "    .fillna(0)\n",
        "    .astype(object)\n",
        "    .replace(0, 'unknown'))"
      ]
    },
    {
      "cell_type": "markdown",
      "metadata": {},
      "source": [
        "Se convirtio la colmna del tipo float64 al tipo object para imputar los valores perdidos por la cadena \"unknown\" esto debido a que algunos modelos pueden tener cilindrada diferente dependiendo de la versión, ya que los datos ausentes representan el 10% del dataframe imputar la media podria sesgar la información."
      ]
    },
    {
      "cell_type": "markdown",
      "metadata": {
        "id": "7XnZum9dJHzd"
      },
      "source": [
        "##Columna 'odometer'##"
      ]
    },
    {
      "cell_type": "code",
      "execution_count": null,
      "metadata": {
        "colab": {
          "base_uri": "https://localhost:8080/"
        },
        "id": "pJK6U35fJlCU",
        "outputId": "a2777b9e-14fb-43bb-9c07-7f27b8833afc"
      },
      "outputs": [
        {
          "name": "stdout",
          "output_type": "stream",
          "text": [
            "El número de valores perdidos en la columna kilometros recorridos es de: 7892\n",
            "El porcentaje de valores perdidos equivale a: 0.15316836487142163\n"
          ]
        }
      ],
      "source": [
        "# Valores perdidos en la columna 'odometer'\n",
        "odo_perdidos = (vehicles_df['odometer'].isna().sum())\n",
        "odo_porcentage = (vehicles_df['odometer'].isna().sum()/vehicles_df.shape[0])\n",
        "\n",
        "print(f'El número de valores perdidos en la columna kilometros recorridos es de: {odo_perdidos}')\n",
        "print(f'El porcentaje de valores perdidos equivale a: {odo_porcentage}')"
      ]
    },
    {
      "cell_type": "markdown",
      "metadata": {},
      "source": [
        "Los datos perdidos representan el 15% del dataframe y al igual que en la columna 'cylinders' imputar la media podria sesgar la información, ademas el numero de kilometros recorridos es muy variado dependiendo del uso que cada individuo le da a su vehiculo."
      ]
    },
    {
      "cell_type": "markdown",
      "metadata": {
        "id": "hp5j_H5QJHWZ"
      },
      "source": [
        "##Columna 'paint_color'##"
      ]
    },
    {
      "cell_type": "code",
      "execution_count": 10,
      "metadata": {
        "colab": {
          "base_uri": "https://localhost:8080/"
        },
        "id": "4UhERdWoJlnB",
        "outputId": "abf1c898-323b-4d8c-e224-19c84887b1af"
      },
      "outputs": [
        {
          "name": "stdout",
          "output_type": "stream",
          "text": [
            "El número de valores perdidos en la columna color del vehiculo es de: 9267\n",
            "El porcentaje de valores perdidos equivale a: 0.17985443959243086\n"
          ]
        }
      ],
      "source": [
        "# Valores perdidos en 'paint_color'\n",
        "col_perdidos = (vehicles_df['paint_color'].isna().sum())\n",
        "col_porcentage = (vehicles_df['paint_color'].isna().sum()/vehicles_df.shape[0])\n",
        "\n",
        "print(f'El número de valores perdidos en la columna color del vehiculo es de: {col_perdidos}')\n",
        "print(f'El porcentaje de valores perdidos equivale a: {col_porcentage}')"
      ]
    },
    {
      "cell_type": "code",
      "execution_count": null,
      "metadata": {
        "id": "NqJCLe2T9_Up"
      },
      "outputs": [],
      "source": [
        "# Remplazo de valores perdidos en la columna 'paint_color' por 'unknown'\n",
        "vehicles_df['paint_color'] = (\n",
        "    vehicles_df['paint_color']\n",
        "    .fillna('unknown'))"
      ]
    },
    {
      "cell_type": "markdown",
      "metadata": {},
      "source": [
        "El conjunto de datos ausentes representan el 17% del dataframe, en este caso se imputaron con la cadena 'unknown'."
      ]
    },
    {
      "cell_type": "markdown",
      "metadata": {
        "id": "KLdY7Yn3JHGy"
      },
      "source": [
        "##Columna 'is_4wd'##"
      ]
    },
    {
      "cell_type": "code",
      "execution_count": 12,
      "metadata": {
        "colab": {
          "base_uri": "https://localhost:8080/"
        },
        "id": "rkd2q9UvJmgz",
        "outputId": "34607528-3c95-49d7-b9cb-43221305e65a"
      },
      "outputs": [
        {
          "name": "stdout",
          "output_type": "stream",
          "text": [
            "El número de valores perdidos en la columna color del vehiculo es de: 25953\n",
            "El porcentaje de valores perdidos equivale a: 0.5036972343522562\n"
          ]
        }
      ],
      "source": [
        "# Valores perdidos en 'is_4wd?\n",
        "wd_perdidos = (vehicles_df['is_4wd'].isna().sum())\n",
        "wd_porcentage = (vehicles_df['is_4wd'].isna().sum()/vehicles_df.shape[0])\n",
        "\n",
        "print(f'El número de valores perdidos en la columna color del vehiculo es de: {wd_perdidos}')\n",
        "print(f'El porcentaje de valores perdidos equivale a: {wd_porcentage}')"
      ]
    },
    {
      "cell_type": "code",
      "execution_count": null,
      "metadata": {},
      "outputs": [],
      "source": [
        "# Remplazo de valores perdidos en la columna 'is_4wd' por '0'\n",
        "vehicles_df['is_4wd'] = vehicles_df['is_4wd'].fillna('0')"
      ]
    },
    {
      "cell_type": "markdown",
      "metadata": {},
      "source": [
        "En esta columna los calores perdidos representan el 50% de los datos perdidos estos se imputaron con '0' (que representa que la traccion no es de 4 ruedad), '1' (representa traccion en las 4 ruedas), esto se decidio asi revisando el dataframe deduciento que los datos presentes corresponden a vehiculos con traccion 4wd."
      ]
    },
    {
      "cell_type": "code",
      "execution_count": 14,
      "metadata": {
        "colab": {
          "base_uri": "https://localhost:8080/"
        },
        "id": "-iddQe_GQAnk",
        "outputId": "a571598c-c021-48c9-8424-b201b94a8be7"
      },
      "outputs": [
        {
          "name": "stdout",
          "output_type": "stream",
          "text": [
            "<class 'pandas.core.frame.DataFrame'>\n",
            "RangeIndex: 51525 entries, 0 to 51524\n",
            "Data columns (total 14 columns):\n",
            " #   Column        Non-Null Count  Dtype  \n",
            "---  ------        --------------  -----  \n",
            " 0   price         51525 non-null  int64  \n",
            " 1   model_year    47906 non-null  float64\n",
            " 2   model         51525 non-null  object \n",
            " 3   condition     51525 non-null  object \n",
            " 4   cylinders     51525 non-null  object \n",
            " 5   fuel          51525 non-null  object \n",
            " 6   odometer      43633 non-null  float64\n",
            " 7   transmission  51525 non-null  object \n",
            " 8   type          51525 non-null  object \n",
            " 9   paint_color   51525 non-null  object \n",
            " 10  is_4wd        51525 non-null  object \n",
            " 11  date_posted   51525 non-null  object \n",
            " 12  days_listed   51525 non-null  int64  \n",
            " 13  manufacturer  51525 non-null  object \n",
            "dtypes: float64(2), int64(2), object(10)\n",
            "memory usage: 5.5+ MB\n"
          ]
        }
      ],
      "source": [
        "vehicles_df.info()"
      ]
    },
    {
      "cell_type": "code",
      "execution_count": 15,
      "metadata": {},
      "outputs": [
        {
          "data": {
            "application/vnd.microsoft.datawrangler.viewer.v0+json": {
              "columns": [
                {
                  "name": "index",
                  "rawType": "int64",
                  "type": "integer"
                },
                {
                  "name": "price",
                  "rawType": "int64",
                  "type": "integer"
                },
                {
                  "name": "model_year",
                  "rawType": "float64",
                  "type": "float"
                },
                {
                  "name": "model",
                  "rawType": "object",
                  "type": "string"
                },
                {
                  "name": "condition",
                  "rawType": "object",
                  "type": "string"
                },
                {
                  "name": "cylinders",
                  "rawType": "object",
                  "type": "unknown"
                },
                {
                  "name": "fuel",
                  "rawType": "object",
                  "type": "string"
                },
                {
                  "name": "odometer",
                  "rawType": "float64",
                  "type": "float"
                },
                {
                  "name": "transmission",
                  "rawType": "object",
                  "type": "string"
                },
                {
                  "name": "type",
                  "rawType": "object",
                  "type": "string"
                },
                {
                  "name": "paint_color",
                  "rawType": "object",
                  "type": "string"
                },
                {
                  "name": "is_4wd",
                  "rawType": "object",
                  "type": "unknown"
                },
                {
                  "name": "date_posted",
                  "rawType": "object",
                  "type": "string"
                },
                {
                  "name": "days_listed",
                  "rawType": "int64",
                  "type": "integer"
                },
                {
                  "name": "manufacturer",
                  "rawType": "object",
                  "type": "string"
                }
              ],
              "ref": "4a13d2f4-606b-4047-bc6d-bd92c067593d",
              "rows": [
                [
                  "17569",
                  "6495",
                  null,
                  "toyota corolla",
                  "excellent",
                  "4.0",
                  "gas",
                  "84600.0",
                  "automatic",
                  "sedan",
                  "unknown",
                  "0",
                  "2018-11-27",
                  "55",
                  "TOYOTA"
                ],
                [
                  "37317",
                  "12911",
                  "2011.0",
                  "gmc sierra 1500",
                  "excellent",
                  "8.0",
                  "gas",
                  "196241.0",
                  "automatic",
                  "truck",
                  "silver",
                  "1.0",
                  "2019-04-12",
                  "71",
                  "GMC"
                ],
                [
                  "45809",
                  "8000",
                  "2002.0",
                  "nissan frontier",
                  "good",
                  "6.0",
                  "gas",
                  "113000.0",
                  "manual",
                  "pickup",
                  "blue",
                  "1.0",
                  "2018-11-17",
                  "7",
                  "NISSAN"
                ],
                [
                  "4012",
                  "17991",
                  "2016.0",
                  "honda cr-v",
                  "excellent",
                  "4.0",
                  "gas",
                  "39605.0",
                  "automatic",
                  "SUV",
                  "silver",
                  "0",
                  "2018-06-20",
                  "27",
                  "HONDA"
                ],
                [
                  "45930",
                  "9995",
                  "2014.0",
                  "nissan rogue",
                  "excellent",
                  "4.0",
                  "gas",
                  null,
                  "automatic",
                  "SUV",
                  "unknown",
                  "1.0",
                  "2018-05-30",
                  "34",
                  "NISSAN"
                ],
                [
                  "8963",
                  "9000",
                  "2012.0",
                  "toyota camry",
                  "excellent",
                  "4.0",
                  "gas",
                  "87700.0",
                  "automatic",
                  "sedan",
                  "silver",
                  "0",
                  "2018-06-06",
                  "28",
                  "TOYOTA"
                ],
                [
                  "33820",
                  "36995",
                  "2016.0",
                  "ford f350 super duty",
                  "excellent",
                  "8.0",
                  "gas",
                  null,
                  "automatic",
                  "truck",
                  "white",
                  "1.0",
                  "2018-12-03",
                  "8",
                  "FORD"
                ],
                [
                  "45222",
                  "24200",
                  "2018.0",
                  "chevrolet camaro lt coupe 2d",
                  "good",
                  "6.0",
                  "gas",
                  null,
                  "other",
                  "coupe",
                  "unknown",
                  "0",
                  "2018-11-23",
                  "24",
                  "CHEVROLET"
                ],
                [
                  "31105",
                  "500",
                  "1993.0",
                  "honda civic",
                  "good",
                  "4.0",
                  "gas",
                  null,
                  "manual",
                  "sedan",
                  "unknown",
                  "0",
                  "2018-05-11",
                  "30",
                  "HONDA"
                ],
                [
                  "127",
                  "10999",
                  "2010.0",
                  "ford edge",
                  "good",
                  "6.0",
                  "gas",
                  "98193.0",
                  "automatic",
                  "SUV",
                  "blue",
                  "1.0",
                  "2018-08-11",
                  "78",
                  "FORD"
                ],
                [
                  "11654",
                  "14999",
                  "2005.0",
                  "ram 2500",
                  "excellent",
                  "6.0",
                  "gas",
                  "57100.0",
                  "automatic",
                  "truck",
                  "blue",
                  "1.0",
                  "2019-02-04",
                  "41",
                  "RAM"
                ],
                [
                  "45732",
                  "19995",
                  "2007.0",
                  "ram 2500",
                  "good",
                  "6.0",
                  "diesel",
                  "127325.0",
                  "automatic",
                  "truck",
                  "grey",
                  "1.0",
                  "2018-11-02",
                  "48",
                  "RAM"
                ],
                [
                  "35197",
                  "2500",
                  "1975.0",
                  "ford f-250",
                  "fair",
                  "8.0",
                  "gas",
                  "55000.0",
                  "other",
                  "truck",
                  "unknown",
                  "1.0",
                  "2019-02-17",
                  "26",
                  "FORD"
                ],
                [
                  "2618",
                  "4200",
                  "2010.0",
                  "dodge grand caravan",
                  "good",
                  "6.0",
                  "gas",
                  "114250.0",
                  "automatic",
                  "mini-van",
                  "silver",
                  "0",
                  "2019-01-11",
                  "8",
                  "DODGE"
                ],
                [
                  "767",
                  "14995",
                  "2009.0",
                  "ford f350 super duty",
                  "good",
                  "10.0",
                  "gas",
                  null,
                  "automatic",
                  "truck",
                  "white",
                  "1.0",
                  "2018-08-17",
                  "20",
                  "FORD"
                ],
                [
                  "28586",
                  "28682",
                  "2015.0",
                  "ford f-150",
                  "excellent",
                  "6.0",
                  "gas",
                  "23084.0",
                  "automatic",
                  "truck",
                  "white",
                  "1.0",
                  "2018-05-23",
                  "28",
                  "FORD"
                ],
                [
                  "38983",
                  "7500",
                  "2010.0",
                  "nissan murano",
                  "excellent",
                  "6.0",
                  "gas",
                  "130000.0",
                  "automatic",
                  "SUV",
                  "white",
                  "1.0",
                  "2018-06-30",
                  "22",
                  "NISSAN"
                ],
                [
                  "22804",
                  "8500",
                  "2009.0",
                  "ford f150",
                  "good",
                  "unknown",
                  "gas",
                  "164000.0",
                  "automatic",
                  "truck",
                  "unknown",
                  "0",
                  "2019-01-08",
                  "42",
                  "FORD"
                ],
                [
                  "11998",
                  "26900",
                  "2015.0",
                  "chevrolet silverado 1500",
                  "good",
                  "8.0",
                  "gas",
                  "73574.0",
                  "automatic",
                  "truck",
                  "black",
                  "1.0",
                  "2018-08-28",
                  "92",
                  "CHEVROLET"
                ],
                [
                  "43862",
                  "26000",
                  "2017.0",
                  "ford mustang gt coupe 2d",
                  "good",
                  "8.0",
                  "gas",
                  "33528.0",
                  "other",
                  "coupe",
                  "yellow",
                  "0",
                  "2018-05-29",
                  "20",
                  "FORD"
                ]
              ],
              "shape": {
                "columns": 14,
                "rows": 20
              }
            },
            "text/html": [
              "<div>\n",
              "<style scoped>\n",
              "    .dataframe tbody tr th:only-of-type {\n",
              "        vertical-align: middle;\n",
              "    }\n",
              "\n",
              "    .dataframe tbody tr th {\n",
              "        vertical-align: top;\n",
              "    }\n",
              "\n",
              "    .dataframe thead th {\n",
              "        text-align: right;\n",
              "    }\n",
              "</style>\n",
              "<table border=\"1\" class=\"dataframe\">\n",
              "  <thead>\n",
              "    <tr style=\"text-align: right;\">\n",
              "      <th></th>\n",
              "      <th>price</th>\n",
              "      <th>model_year</th>\n",
              "      <th>model</th>\n",
              "      <th>condition</th>\n",
              "      <th>cylinders</th>\n",
              "      <th>fuel</th>\n",
              "      <th>odometer</th>\n",
              "      <th>transmission</th>\n",
              "      <th>type</th>\n",
              "      <th>paint_color</th>\n",
              "      <th>is_4wd</th>\n",
              "      <th>date_posted</th>\n",
              "      <th>days_listed</th>\n",
              "      <th>manufacturer</th>\n",
              "    </tr>\n",
              "  </thead>\n",
              "  <tbody>\n",
              "    <tr>\n",
              "      <th>17569</th>\n",
              "      <td>6495</td>\n",
              "      <td>NaN</td>\n",
              "      <td>toyota corolla</td>\n",
              "      <td>excellent</td>\n",
              "      <td>4.0</td>\n",
              "      <td>gas</td>\n",
              "      <td>84600.0</td>\n",
              "      <td>automatic</td>\n",
              "      <td>sedan</td>\n",
              "      <td>unknown</td>\n",
              "      <td>0</td>\n",
              "      <td>2018-11-27</td>\n",
              "      <td>55</td>\n",
              "      <td>TOYOTA</td>\n",
              "    </tr>\n",
              "    <tr>\n",
              "      <th>37317</th>\n",
              "      <td>12911</td>\n",
              "      <td>2011.0</td>\n",
              "      <td>gmc sierra 1500</td>\n",
              "      <td>excellent</td>\n",
              "      <td>8.0</td>\n",
              "      <td>gas</td>\n",
              "      <td>196241.0</td>\n",
              "      <td>automatic</td>\n",
              "      <td>truck</td>\n",
              "      <td>silver</td>\n",
              "      <td>1.0</td>\n",
              "      <td>2019-04-12</td>\n",
              "      <td>71</td>\n",
              "      <td>GMC</td>\n",
              "    </tr>\n",
              "    <tr>\n",
              "      <th>45809</th>\n",
              "      <td>8000</td>\n",
              "      <td>2002.0</td>\n",
              "      <td>nissan frontier</td>\n",
              "      <td>good</td>\n",
              "      <td>6.0</td>\n",
              "      <td>gas</td>\n",
              "      <td>113000.0</td>\n",
              "      <td>manual</td>\n",
              "      <td>pickup</td>\n",
              "      <td>blue</td>\n",
              "      <td>1.0</td>\n",
              "      <td>2018-11-17</td>\n",
              "      <td>7</td>\n",
              "      <td>NISSAN</td>\n",
              "    </tr>\n",
              "    <tr>\n",
              "      <th>4012</th>\n",
              "      <td>17991</td>\n",
              "      <td>2016.0</td>\n",
              "      <td>honda cr-v</td>\n",
              "      <td>excellent</td>\n",
              "      <td>4.0</td>\n",
              "      <td>gas</td>\n",
              "      <td>39605.0</td>\n",
              "      <td>automatic</td>\n",
              "      <td>SUV</td>\n",
              "      <td>silver</td>\n",
              "      <td>0</td>\n",
              "      <td>2018-06-20</td>\n",
              "      <td>27</td>\n",
              "      <td>HONDA</td>\n",
              "    </tr>\n",
              "    <tr>\n",
              "      <th>45930</th>\n",
              "      <td>9995</td>\n",
              "      <td>2014.0</td>\n",
              "      <td>nissan rogue</td>\n",
              "      <td>excellent</td>\n",
              "      <td>4.0</td>\n",
              "      <td>gas</td>\n",
              "      <td>NaN</td>\n",
              "      <td>automatic</td>\n",
              "      <td>SUV</td>\n",
              "      <td>unknown</td>\n",
              "      <td>1.0</td>\n",
              "      <td>2018-05-30</td>\n",
              "      <td>34</td>\n",
              "      <td>NISSAN</td>\n",
              "    </tr>\n",
              "    <tr>\n",
              "      <th>8963</th>\n",
              "      <td>9000</td>\n",
              "      <td>2012.0</td>\n",
              "      <td>toyota camry</td>\n",
              "      <td>excellent</td>\n",
              "      <td>4.0</td>\n",
              "      <td>gas</td>\n",
              "      <td>87700.0</td>\n",
              "      <td>automatic</td>\n",
              "      <td>sedan</td>\n",
              "      <td>silver</td>\n",
              "      <td>0</td>\n",
              "      <td>2018-06-06</td>\n",
              "      <td>28</td>\n",
              "      <td>TOYOTA</td>\n",
              "    </tr>\n",
              "    <tr>\n",
              "      <th>33820</th>\n",
              "      <td>36995</td>\n",
              "      <td>2016.0</td>\n",
              "      <td>ford f350 super duty</td>\n",
              "      <td>excellent</td>\n",
              "      <td>8.0</td>\n",
              "      <td>gas</td>\n",
              "      <td>NaN</td>\n",
              "      <td>automatic</td>\n",
              "      <td>truck</td>\n",
              "      <td>white</td>\n",
              "      <td>1.0</td>\n",
              "      <td>2018-12-03</td>\n",
              "      <td>8</td>\n",
              "      <td>FORD</td>\n",
              "    </tr>\n",
              "    <tr>\n",
              "      <th>45222</th>\n",
              "      <td>24200</td>\n",
              "      <td>2018.0</td>\n",
              "      <td>chevrolet camaro lt coupe 2d</td>\n",
              "      <td>good</td>\n",
              "      <td>6.0</td>\n",
              "      <td>gas</td>\n",
              "      <td>NaN</td>\n",
              "      <td>other</td>\n",
              "      <td>coupe</td>\n",
              "      <td>unknown</td>\n",
              "      <td>0</td>\n",
              "      <td>2018-11-23</td>\n",
              "      <td>24</td>\n",
              "      <td>CHEVROLET</td>\n",
              "    </tr>\n",
              "    <tr>\n",
              "      <th>31105</th>\n",
              "      <td>500</td>\n",
              "      <td>1993.0</td>\n",
              "      <td>honda civic</td>\n",
              "      <td>good</td>\n",
              "      <td>4.0</td>\n",
              "      <td>gas</td>\n",
              "      <td>NaN</td>\n",
              "      <td>manual</td>\n",
              "      <td>sedan</td>\n",
              "      <td>unknown</td>\n",
              "      <td>0</td>\n",
              "      <td>2018-05-11</td>\n",
              "      <td>30</td>\n",
              "      <td>HONDA</td>\n",
              "    </tr>\n",
              "    <tr>\n",
              "      <th>127</th>\n",
              "      <td>10999</td>\n",
              "      <td>2010.0</td>\n",
              "      <td>ford edge</td>\n",
              "      <td>good</td>\n",
              "      <td>6.0</td>\n",
              "      <td>gas</td>\n",
              "      <td>98193.0</td>\n",
              "      <td>automatic</td>\n",
              "      <td>SUV</td>\n",
              "      <td>blue</td>\n",
              "      <td>1.0</td>\n",
              "      <td>2018-08-11</td>\n",
              "      <td>78</td>\n",
              "      <td>FORD</td>\n",
              "    </tr>\n",
              "    <tr>\n",
              "      <th>11654</th>\n",
              "      <td>14999</td>\n",
              "      <td>2005.0</td>\n",
              "      <td>ram 2500</td>\n",
              "      <td>excellent</td>\n",
              "      <td>6.0</td>\n",
              "      <td>gas</td>\n",
              "      <td>57100.0</td>\n",
              "      <td>automatic</td>\n",
              "      <td>truck</td>\n",
              "      <td>blue</td>\n",
              "      <td>1.0</td>\n",
              "      <td>2019-02-04</td>\n",
              "      <td>41</td>\n",
              "      <td>RAM</td>\n",
              "    </tr>\n",
              "    <tr>\n",
              "      <th>45732</th>\n",
              "      <td>19995</td>\n",
              "      <td>2007.0</td>\n",
              "      <td>ram 2500</td>\n",
              "      <td>good</td>\n",
              "      <td>6.0</td>\n",
              "      <td>diesel</td>\n",
              "      <td>127325.0</td>\n",
              "      <td>automatic</td>\n",
              "      <td>truck</td>\n",
              "      <td>grey</td>\n",
              "      <td>1.0</td>\n",
              "      <td>2018-11-02</td>\n",
              "      <td>48</td>\n",
              "      <td>RAM</td>\n",
              "    </tr>\n",
              "    <tr>\n",
              "      <th>35197</th>\n",
              "      <td>2500</td>\n",
              "      <td>1975.0</td>\n",
              "      <td>ford f-250</td>\n",
              "      <td>fair</td>\n",
              "      <td>8.0</td>\n",
              "      <td>gas</td>\n",
              "      <td>55000.0</td>\n",
              "      <td>other</td>\n",
              "      <td>truck</td>\n",
              "      <td>unknown</td>\n",
              "      <td>1.0</td>\n",
              "      <td>2019-02-17</td>\n",
              "      <td>26</td>\n",
              "      <td>FORD</td>\n",
              "    </tr>\n",
              "    <tr>\n",
              "      <th>2618</th>\n",
              "      <td>4200</td>\n",
              "      <td>2010.0</td>\n",
              "      <td>dodge grand caravan</td>\n",
              "      <td>good</td>\n",
              "      <td>6.0</td>\n",
              "      <td>gas</td>\n",
              "      <td>114250.0</td>\n",
              "      <td>automatic</td>\n",
              "      <td>mini-van</td>\n",
              "      <td>silver</td>\n",
              "      <td>0</td>\n",
              "      <td>2019-01-11</td>\n",
              "      <td>8</td>\n",
              "      <td>DODGE</td>\n",
              "    </tr>\n",
              "    <tr>\n",
              "      <th>767</th>\n",
              "      <td>14995</td>\n",
              "      <td>2009.0</td>\n",
              "      <td>ford f350 super duty</td>\n",
              "      <td>good</td>\n",
              "      <td>10.0</td>\n",
              "      <td>gas</td>\n",
              "      <td>NaN</td>\n",
              "      <td>automatic</td>\n",
              "      <td>truck</td>\n",
              "      <td>white</td>\n",
              "      <td>1.0</td>\n",
              "      <td>2018-08-17</td>\n",
              "      <td>20</td>\n",
              "      <td>FORD</td>\n",
              "    </tr>\n",
              "    <tr>\n",
              "      <th>28586</th>\n",
              "      <td>28682</td>\n",
              "      <td>2015.0</td>\n",
              "      <td>ford f-150</td>\n",
              "      <td>excellent</td>\n",
              "      <td>6.0</td>\n",
              "      <td>gas</td>\n",
              "      <td>23084.0</td>\n",
              "      <td>automatic</td>\n",
              "      <td>truck</td>\n",
              "      <td>white</td>\n",
              "      <td>1.0</td>\n",
              "      <td>2018-05-23</td>\n",
              "      <td>28</td>\n",
              "      <td>FORD</td>\n",
              "    </tr>\n",
              "    <tr>\n",
              "      <th>38983</th>\n",
              "      <td>7500</td>\n",
              "      <td>2010.0</td>\n",
              "      <td>nissan murano</td>\n",
              "      <td>excellent</td>\n",
              "      <td>6.0</td>\n",
              "      <td>gas</td>\n",
              "      <td>130000.0</td>\n",
              "      <td>automatic</td>\n",
              "      <td>SUV</td>\n",
              "      <td>white</td>\n",
              "      <td>1.0</td>\n",
              "      <td>2018-06-30</td>\n",
              "      <td>22</td>\n",
              "      <td>NISSAN</td>\n",
              "    </tr>\n",
              "    <tr>\n",
              "      <th>22804</th>\n",
              "      <td>8500</td>\n",
              "      <td>2009.0</td>\n",
              "      <td>ford f150</td>\n",
              "      <td>good</td>\n",
              "      <td>unknown</td>\n",
              "      <td>gas</td>\n",
              "      <td>164000.0</td>\n",
              "      <td>automatic</td>\n",
              "      <td>truck</td>\n",
              "      <td>unknown</td>\n",
              "      <td>0</td>\n",
              "      <td>2019-01-08</td>\n",
              "      <td>42</td>\n",
              "      <td>FORD</td>\n",
              "    </tr>\n",
              "    <tr>\n",
              "      <th>11998</th>\n",
              "      <td>26900</td>\n",
              "      <td>2015.0</td>\n",
              "      <td>chevrolet silverado 1500</td>\n",
              "      <td>good</td>\n",
              "      <td>8.0</td>\n",
              "      <td>gas</td>\n",
              "      <td>73574.0</td>\n",
              "      <td>automatic</td>\n",
              "      <td>truck</td>\n",
              "      <td>black</td>\n",
              "      <td>1.0</td>\n",
              "      <td>2018-08-28</td>\n",
              "      <td>92</td>\n",
              "      <td>CHEVROLET</td>\n",
              "    </tr>\n",
              "    <tr>\n",
              "      <th>43862</th>\n",
              "      <td>26000</td>\n",
              "      <td>2017.0</td>\n",
              "      <td>ford mustang gt coupe 2d</td>\n",
              "      <td>good</td>\n",
              "      <td>8.0</td>\n",
              "      <td>gas</td>\n",
              "      <td>33528.0</td>\n",
              "      <td>other</td>\n",
              "      <td>coupe</td>\n",
              "      <td>yellow</td>\n",
              "      <td>0</td>\n",
              "      <td>2018-05-29</td>\n",
              "      <td>20</td>\n",
              "      <td>FORD</td>\n",
              "    </tr>\n",
              "  </tbody>\n",
              "</table>\n",
              "</div>"
            ],
            "text/plain": [
              "       price  model_year                         model  condition cylinders  \\\n",
              "17569   6495         NaN                toyota corolla  excellent       4.0   \n",
              "37317  12911      2011.0               gmc sierra 1500  excellent       8.0   \n",
              "45809   8000      2002.0               nissan frontier       good       6.0   \n",
              "4012   17991      2016.0                    honda cr-v  excellent       4.0   \n",
              "45930   9995      2014.0                  nissan rogue  excellent       4.0   \n",
              "8963    9000      2012.0                  toyota camry  excellent       4.0   \n",
              "33820  36995      2016.0          ford f350 super duty  excellent       8.0   \n",
              "45222  24200      2018.0  chevrolet camaro lt coupe 2d       good       6.0   \n",
              "31105    500      1993.0                   honda civic       good       4.0   \n",
              "127    10999      2010.0                     ford edge       good       6.0   \n",
              "11654  14999      2005.0                      ram 2500  excellent       6.0   \n",
              "45732  19995      2007.0                      ram 2500       good       6.0   \n",
              "35197   2500      1975.0                    ford f-250       fair       8.0   \n",
              "2618    4200      2010.0           dodge grand caravan       good       6.0   \n",
              "767    14995      2009.0          ford f350 super duty       good      10.0   \n",
              "28586  28682      2015.0                    ford f-150  excellent       6.0   \n",
              "38983   7500      2010.0                 nissan murano  excellent       6.0   \n",
              "22804   8500      2009.0                     ford f150       good   unknown   \n",
              "11998  26900      2015.0      chevrolet silverado 1500       good       8.0   \n",
              "43862  26000      2017.0      ford mustang gt coupe 2d       good       8.0   \n",
              "\n",
              "         fuel  odometer transmission      type paint_color is_4wd date_posted  \\\n",
              "17569     gas   84600.0    automatic     sedan     unknown      0  2018-11-27   \n",
              "37317     gas  196241.0    automatic     truck      silver    1.0  2019-04-12   \n",
              "45809     gas  113000.0       manual    pickup        blue    1.0  2018-11-17   \n",
              "4012      gas   39605.0    automatic       SUV      silver      0  2018-06-20   \n",
              "45930     gas       NaN    automatic       SUV     unknown    1.0  2018-05-30   \n",
              "8963      gas   87700.0    automatic     sedan      silver      0  2018-06-06   \n",
              "33820     gas       NaN    automatic     truck       white    1.0  2018-12-03   \n",
              "45222     gas       NaN        other     coupe     unknown      0  2018-11-23   \n",
              "31105     gas       NaN       manual     sedan     unknown      0  2018-05-11   \n",
              "127       gas   98193.0    automatic       SUV        blue    1.0  2018-08-11   \n",
              "11654     gas   57100.0    automatic     truck        blue    1.0  2019-02-04   \n",
              "45732  diesel  127325.0    automatic     truck        grey    1.0  2018-11-02   \n",
              "35197     gas   55000.0        other     truck     unknown    1.0  2019-02-17   \n",
              "2618      gas  114250.0    automatic  mini-van      silver      0  2019-01-11   \n",
              "767       gas       NaN    automatic     truck       white    1.0  2018-08-17   \n",
              "28586     gas   23084.0    automatic     truck       white    1.0  2018-05-23   \n",
              "38983     gas  130000.0    automatic       SUV       white    1.0  2018-06-30   \n",
              "22804     gas  164000.0    automatic     truck     unknown      0  2019-01-08   \n",
              "11998     gas   73574.0    automatic     truck       black    1.0  2018-08-28   \n",
              "43862     gas   33528.0        other     coupe      yellow      0  2018-05-29   \n",
              "\n",
              "       days_listed manufacturer  \n",
              "17569           55       TOYOTA  \n",
              "37317           71          GMC  \n",
              "45809            7       NISSAN  \n",
              "4012            27        HONDA  \n",
              "45930           34       NISSAN  \n",
              "8963            28       TOYOTA  \n",
              "33820            8         FORD  \n",
              "45222           24    CHEVROLET  \n",
              "31105           30        HONDA  \n",
              "127             78         FORD  \n",
              "11654           41          RAM  \n",
              "45732           48          RAM  \n",
              "35197           26         FORD  \n",
              "2618             8        DODGE  \n",
              "767             20         FORD  \n",
              "28586           28         FORD  \n",
              "38983           22       NISSAN  \n",
              "22804           42         FORD  \n",
              "11998           92    CHEVROLET  \n",
              "43862           20         FORD  "
            ]
          },
          "execution_count": 15,
          "metadata": {},
          "output_type": "execute_result"
        }
      ],
      "source": [
        "vehicles_df.sample(20)"
      ]
    },
    {
      "cell_type": "markdown",
      "metadata": {
        "id": "LKwZUpanJG0K"
      },
      "source": [
        "## Duplicados\n"
      ]
    },
    {
      "cell_type": "code",
      "execution_count": 16,
      "metadata": {
        "colab": {
          "base_uri": "https://localhost:8080/"
        },
        "id": "0M99jovRAxsL",
        "outputId": "e2019b66-b1e0-4882-dadf-47ec8817dcd2"
      },
      "outputs": [
        {
          "name": "stdout",
          "output_type": "stream",
          "text": [
            " El numero de duplicados obvios es de: 0\n"
          ]
        }
      ],
      "source": [
        "print(f' El numero de duplicados obvios es de:', (vehicles_df.duplicated().sum()))"
      ]
    },
    {
      "cell_type": "markdown",
      "metadata": {},
      "source": [
        "## Creacion de DataFrame Limpio"
      ]
    },
    {
      "cell_type": "code",
      "execution_count": 17,
      "metadata": {},
      "outputs": [],
      "source": [
        "clean_vehicles_df = vehicles_df\n",
        "# Guardar el DataFrame limpio\n",
        "clean_vehicles_df.to_csv(r'D:\\101010 Revisiones\\Sprint-7-Proyecto\\clean_vehicles_df.csv', index=False)"
      ]
    },
    {
      "cell_type": "code",
      "execution_count": null,
      "metadata": {},
      "outputs": [],
      "source": []
    }
  ],
  "metadata": {
    "colab": {
      "provenance": []
    },
    "kernelspec": {
      "display_name": "vehicles_env (3.11.9)",
      "language": "python",
      "name": "python3"
    },
    "language_info": {
      "codemirror_mode": {
        "name": "ipython",
        "version": 3
      },
      "file_extension": ".py",
      "mimetype": "text/x-python",
      "name": "python",
      "nbconvert_exporter": "python",
      "pygments_lexer": "ipython3",
      "version": "3.11.9"
    }
  },
  "nbformat": 4,
  "nbformat_minor": 0
}
